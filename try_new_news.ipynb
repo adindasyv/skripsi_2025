{
 "cells": [
  {
   "cell_type": "code",
   "execution_count": 1,
   "id": "df34035f",
   "metadata": {},
   "outputs": [],
   "source": [
    "import pandas as pd\n",
    "import re\n",
    "import nltk\n",
    "from nltk.tokenize import word_tokenize\n",
    "from nltk.corpus import stopwords\n",
    "from Sastrawi.Stemmer.StemmerFactory import StemmerFactory\n",
    "from indonesian_number_normalizer import create_normalizer\n",
    "from tqdm import tqdm"
   ]
  },
  {
   "cell_type": "code",
   "execution_count": 2,
   "id": "9e50f029",
   "metadata": {},
   "outputs": [
    {
     "name": "stderr",
     "output_type": "stream",
     "text": [
      "[nltk_data] Downloading package punkt to\n",
      "[nltk_data]     C:\\Users\\ASUS\\AppData\\Roaming\\nltk_data...\n",
      "[nltk_data]   Package punkt is already up-to-date!\n",
      "[nltk_data] Downloading package stopwords to\n",
      "[nltk_data]     C:\\Users\\ASUS\\AppData\\Roaming\\nltk_data...\n",
      "[nltk_data]   Package stopwords is already up-to-date!\n"
     ]
    }
   ],
   "source": [
    "nltk.download('punkt')\n",
    "nltk.download('stopwords')\n",
    "normalizer = create_normalizer()"
   ]
  },
  {
   "cell_type": "code",
   "execution_count": 3,
   "id": "ef1d21b9",
   "metadata": {},
   "outputs": [
    {
     "data": {
      "text/html": [
       "<div>\n",
       "<style scoped>\n",
       "    .dataframe tbody tr th:only-of-type {\n",
       "        vertical-align: middle;\n",
       "    }\n",
       "\n",
       "    .dataframe tbody tr th {\n",
       "        vertical-align: top;\n",
       "    }\n",
       "\n",
       "    .dataframe thead th {\n",
       "        text-align: right;\n",
       "    }\n",
       "</style>\n",
       "<table border=\"1\" class=\"dataframe\">\n",
       "  <thead>\n",
       "    <tr style=\"text-align: right;\">\n",
       "      <th></th>\n",
       "      <th>content</th>\n",
       "      <th>title</th>\n",
       "    </tr>\n",
       "  </thead>\n",
       "  <tbody>\n",
       "    <tr>\n",
       "      <th>0</th>\n",
       "      <td>Ikatan Dokter Indonesia (IDI) menanggapi fenom...</td>\n",
       "      <td>IDI soal Ida Dayak: Pengobatan Alternatif Haru...</td>\n",
       "    </tr>\n",
       "    <tr>\n",
       "      <th>1</th>\n",
       "      <td>JAKARTA, KOMPAS.com - Penjabat (Pj) Gubernur ...</td>\n",
       "      <td>HUT Ke-79 RI di IKN, Heru Budi Sebut Infrastru...</td>\n",
       "    </tr>\n",
       "    <tr>\n",
       "      <th>2</th>\n",
       "      <td>Konflik antara dan pernah ramai dibicarakan. S...</td>\n",
       "      <td>Persija Harus Bayar Marko Simic Total Rp 7 M, ...</td>\n",
       "    </tr>\n",
       "    <tr>\n",
       "      <th>3</th>\n",
       "      <td>Jakarta, CNBC Indonesia - PT Telkom Indonesia ...</td>\n",
       "      <td>Jelang Kawin Dengan Telkomsel, Nilai IndiHome ...</td>\n",
       "    </tr>\n",
       "    <tr>\n",
       "      <th>4</th>\n",
       "      <td>TEMPO.CO, Jakarta - Mantan Gubernur DKI Jakart...</td>\n",
       "      <td>Anies Baswedan Mau Buat Partai Politik setelah...</td>\n",
       "    </tr>\n",
       "    <tr>\n",
       "      <th>...</th>\n",
       "      <td>...</td>\n",
       "      <td>...</td>\n",
       "    </tr>\n",
       "    <tr>\n",
       "      <th>5995</th>\n",
       "      <td>TEMPO.CO, Jakarta - Bursa Pilkada Jakarta 2024...</td>\n",
       "      <td>Kata Peneliti Soal Peluang Anies Baswedan di P...</td>\n",
       "    </tr>\n",
       "    <tr>\n",
       "      <th>5996</th>\n",
       "      <td>Serangan militer Israel ke wilayah Gaza, Pales...</td>\n",
       "      <td>Gugur Wali Kota Gaza Digempur Israel kala Tinj...</td>\n",
       "    </tr>\n",
       "    <tr>\n",
       "      <th>5997</th>\n",
       "      <td>TEMPO.CO, Jakarta - Calon presiden Ganjar Pran...</td>\n",
       "      <td>Ganjar Soroti Banyak Pejabat Tak Isi LHKPN, Ap...</td>\n",
       "    </tr>\n",
       "    <tr>\n",
       "      <th>5998</th>\n",
       "      <td>JAKARTA, KOMPAS.com - Partai Gerindra sangat ...</td>\n",
       "      <td>Momen Muzani \"Goda\" Jokowi di Rapimnas Gerindr...</td>\n",
       "    </tr>\n",
       "    <tr>\n",
       "      <th>5999</th>\n",
       "      <td>PT Pupuk Indonesia  (Persero) mengakui pabrik ...</td>\n",
       "      <td>Pupuk Indonesia Akui Pabrik Pupuk Punya Potens...</td>\n",
       "    </tr>\n",
       "  </tbody>\n",
       "</table>\n",
       "<p>6000 rows × 2 columns</p>\n",
       "</div>"
      ],
      "text/plain": [
       "                                                content  \\\n",
       "0     Ikatan Dokter Indonesia (IDI) menanggapi fenom...   \n",
       "1      JAKARTA, KOMPAS.com - Penjabat (Pj) Gubernur ...   \n",
       "2     Konflik antara dan pernah ramai dibicarakan. S...   \n",
       "3     Jakarta, CNBC Indonesia - PT Telkom Indonesia ...   \n",
       "4     TEMPO.CO, Jakarta - Mantan Gubernur DKI Jakart...   \n",
       "...                                                 ...   \n",
       "5995  TEMPO.CO, Jakarta - Bursa Pilkada Jakarta 2024...   \n",
       "5996  Serangan militer Israel ke wilayah Gaza, Pales...   \n",
       "5997  TEMPO.CO, Jakarta - Calon presiden Ganjar Pran...   \n",
       "5998   JAKARTA, KOMPAS.com - Partai Gerindra sangat ...   \n",
       "5999  PT Pupuk Indonesia  (Persero) mengakui pabrik ...   \n",
       "\n",
       "                                                  title  \n",
       "0     IDI soal Ida Dayak: Pengobatan Alternatif Haru...  \n",
       "1     HUT Ke-79 RI di IKN, Heru Budi Sebut Infrastru...  \n",
       "2     Persija Harus Bayar Marko Simic Total Rp 7 M, ...  \n",
       "3     Jelang Kawin Dengan Telkomsel, Nilai IndiHome ...  \n",
       "4     Anies Baswedan Mau Buat Partai Politik setelah...  \n",
       "...                                                 ...  \n",
       "5995  Kata Peneliti Soal Peluang Anies Baswedan di P...  \n",
       "5996  Gugur Wali Kota Gaza Digempur Israel kala Tinj...  \n",
       "5997  Ganjar Soroti Banyak Pejabat Tak Isi LHKPN, Ap...  \n",
       "5998  Momen Muzani \"Goda\" Jokowi di Rapimnas Gerindr...  \n",
       "5999  Pupuk Indonesia Akui Pabrik Pupuk Punya Potens...  \n",
       "\n",
       "[6000 rows x 2 columns]"
      ]
     },
     "execution_count": 3,
     "metadata": {},
     "output_type": "execute_result"
    }
   ],
   "source": [
    "df = pd.read_csv(r'D:\\SKRIPSI\\skripsi_2025\\fix_dataset\\berita_terkini.csv')\n",
    "df"
   ]
  },
  {
   "cell_type": "code",
   "execution_count": 5,
   "id": "2051d973",
   "metadata": {},
   "outputs": [
    {
     "name": "stdout",
     "output_type": "stream",
     "text": [
      "Dataset setelah dibersihkan memiliki 6000 baris\n"
     ]
    }
   ],
   "source": [
    "df = df.drop_duplicates(subset=['content'])\n",
    "print(f\"Dataset setelah dibersihkan memiliki {len(df)} baris\")"
   ]
  },
  {
   "cell_type": "code",
   "execution_count": null,
   "id": "46da9580",
   "metadata": {},
   "outputs": [],
   "source": []
  }
 ],
 "metadata": {
  "kernelspec": {
   "display_name": "base",
   "language": "python",
   "name": "python3"
  },
  "language_info": {
   "codemirror_mode": {
    "name": "ipython",
    "version": 3
   },
   "file_extension": ".py",
   "mimetype": "text/x-python",
   "name": "python",
   "nbconvert_exporter": "python",
   "pygments_lexer": "ipython3",
   "version": "3.8.8"
  }
 },
 "nbformat": 4,
 "nbformat_minor": 5
}
