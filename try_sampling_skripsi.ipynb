{
 "cells": [
  {
   "cell_type": "code",
   "execution_count": 8,
   "metadata": {},
   "outputs": [],
   "source": [
    "import pandas as pd\n",
    "import re\n",
    "import seaborn as sns\n",
    "import matplotlib.pyplot as plt\n",
    "import nltk\n",
    "from tqdm.notebook import tqdm\n",
    "import warnings\n",
    "warnings. filterwarnings('ignore')"
   ]
  },
  {
   "cell_type": "code",
   "execution_count": 2,
   "metadata": {},
   "outputs": [
    {
     "name": "stdout",
     "output_type": "stream",
     "text": [
      "Requirement already satisfied: Sastrawi in c:\\users\\asus\\anaconda3\\lib\\site-packages (1.0.1)\n",
      "Requirement already satisfied: tqdm in c:\\users\\asus\\anaconda3\\lib\\site-packages (4.59.0)\n"
     ]
    }
   ],
   "source": [
    "! pip install Sastrawi\n",
    "! pip install tqdm"
   ]
  },
  {
   "cell_type": "code",
   "execution_count": 3,
   "metadata": {},
   "outputs": [
    {
     "data": {
      "text/plain": [
       "True"
      ]
     },
     "execution_count": 3,
     "metadata": {},
     "output_type": "execute_result"
    }
   ],
   "source": [
    "nltk.download('punkt', quiet=True)\n",
    "nltk.download('stopwords', quiet=True)"
   ]
  },
  {
   "cell_type": "code",
   "execution_count": 4,
   "metadata": {},
   "outputs": [],
   "source": [
    "from nltk.tokenize import word_tokenize\n",
    "from nltk.corpus import stopwords\n",
    "from Sastrawi.Stemmer.StemmerFactory import StemmerFactory"
   ]
  },
  {
   "cell_type": "code",
   "execution_count": 5,
   "metadata": {},
   "outputs": [
    {
     "data": {
      "text/html": [
       "<div>\n",
       "<style scoped>\n",
       "    .dataframe tbody tr th:only-of-type {\n",
       "        vertical-align: middle;\n",
       "    }\n",
       "\n",
       "    .dataframe tbody tr th {\n",
       "        vertical-align: top;\n",
       "    }\n",
       "\n",
       "    .dataframe thead th {\n",
       "        text-align: right;\n",
       "    }\n",
       "</style>\n",
       "<table border=\"1\" class=\"dataframe\">\n",
       "  <thead>\n",
       "    <tr style=\"text-align: right;\">\n",
       "      <th></th>\n",
       "      <th>Judul</th>\n",
       "      <th>Waktu</th>\n",
       "      <th>Link</th>\n",
       "      <th>Content</th>\n",
       "      <th>source</th>\n",
       "    </tr>\n",
       "  </thead>\n",
       "  <tbody>\n",
       "    <tr>\n",
       "      <th>0</th>\n",
       "      <td>Jokowi Kenakan Pakaian Adat Betawi di Sidang T...</td>\n",
       "      <td>16/08/2024</td>\n",
       "      <td>https://nasional.kompas.com/read/2024/08/16/11...</td>\n",
       "      <td>JAKARTA, KOMPAS.com - Presiden Joko Widodo me...</td>\n",
       "      <td>kompas</td>\n",
       "    </tr>\n",
       "    <tr>\n",
       "      <th>1</th>\n",
       "      <td>Amnesty International Beberkan 6 Indikator Kri...</td>\n",
       "      <td>7/18/2024</td>\n",
       "      <td>https://nasional.tempo.co/read/1893144/amnesty...</td>\n",
       "      <td>TEMPO.CO, Jakarta - Amnesty International Indo...</td>\n",
       "      <td>tempo</td>\n",
       "    </tr>\n",
       "    <tr>\n",
       "      <th>2</th>\n",
       "      <td>Jelang Long Weekend, Stasiun Kereta Cepat Hali...</td>\n",
       "      <td>Rabu, 08 Mei  2024 19:18 WIB</td>\n",
       "      <td>https://news.detik.com/berita/d-7331666/jelang...</td>\n",
       "      <td>Stasiun kereta cepat Whoosh di Halim, Jakarta ...</td>\n",
       "      <td>detik</td>\n",
       "    </tr>\n",
       "    <tr>\n",
       "      <th>3</th>\n",
       "      <td>KPU Tegaskan Pemilih Tak Terdaftar di DPT Bisa...</td>\n",
       "      <td>13/02/2024</td>\n",
       "      <td>https://nasional.kompas.com/read/2024/02/13/21...</td>\n",
       "      <td>JAKARTA, KOMPAS.com - Komisi Pemilihan Umum (...</td>\n",
       "      <td>kompas</td>\n",
       "    </tr>\n",
       "    <tr>\n",
       "      <th>4</th>\n",
       "      <td>Kemenag Luncurkan Gerakan Senam Haji Jaga Keta...</td>\n",
       "      <td>4/29/2024</td>\n",
       "      <td>https://nasional.tempo.co/read/1861810/kemenag...</td>\n",
       "      <td>TEMPO.CO, Jakarta - Kementerian Agama atau Kem...</td>\n",
       "      <td>tempo</td>\n",
       "    </tr>\n",
       "    <tr>\n",
       "      <th>...</th>\n",
       "      <td>...</td>\n",
       "      <td>...</td>\n",
       "      <td>...</td>\n",
       "      <td>...</td>\n",
       "      <td>...</td>\n",
       "    </tr>\n",
       "    <tr>\n",
       "      <th>35864</th>\n",
       "      <td>Kapolri Tegaskan Contraflow di Tol Tetap Dibut...</td>\n",
       "      <td>Senin, 08 Apr 2024 20:03 WIB</td>\n",
       "      <td>https://news.detik.com/berita/d-7285216/kapolr...</td>\n",
       "      <td>Kapolri Jenderal Listyo Sigit Prabowo menegask...</td>\n",
       "      <td>detik</td>\n",
       "    </tr>\n",
       "    <tr>\n",
       "      <th>35865</th>\n",
       "      <td>Temuan Cairan Misterius di Rumah Eks Bupati Je...</td>\n",
       "      <td>Sabtu, 10 Agu 2024 16:16 WIB</td>\n",
       "      <td>https://news.detik.com/berita/d-7483244/temuan...</td>\n",
       "      <td>Polisi melakukan olah tempat kejadian perkara ...</td>\n",
       "      <td>detik</td>\n",
       "    </tr>\n",
       "    <tr>\n",
       "      <th>35866</th>\n",
       "      <td>Danjen Kopassus Bukber dengan Para Mantan Danj...</td>\n",
       "      <td>Jumat, 05 Apr 2024 20:53 WIB</td>\n",
       "      <td>https://news.detik.com/berita/d-7281174/danjen...</td>\n",
       "      <td>Danjen Kopassus Mayjen TNI Djon Afriandi mengg...</td>\n",
       "      <td>detik</td>\n",
       "    </tr>\n",
       "    <tr>\n",
       "      <th>35867</th>\n",
       "      <td>Pertemuan Jokowi dan Paus Fransiskus Akan Baha...</td>\n",
       "      <td>3/9/2024</td>\n",
       "      <td>https://nasional.kompas.com/read/2024/09/03/14...</td>\n",
       "      <td>TANGERANG, KOMPAS.com - Menteri Agama Yaqut C...</td>\n",
       "      <td>kompas</td>\n",
       "    </tr>\n",
       "    <tr>\n",
       "      <th>35868</th>\n",
       "      <td>Kabar Golkar Sepekan: Dedi Mulyadi Didukung un...</td>\n",
       "      <td>8/4/2024</td>\n",
       "      <td>https://nasional.tempo.co/read/1899592/kabar-g...</td>\n",
       "      <td>TEMPO.CO, Jakarta - Golkar makin disoroti kepu...</td>\n",
       "      <td>tempo</td>\n",
       "    </tr>\n",
       "  </tbody>\n",
       "</table>\n",
       "<p>35869 rows × 5 columns</p>\n",
       "</div>"
      ],
      "text/plain": [
       "                                                   Judul  \\\n",
       "0      Jokowi Kenakan Pakaian Adat Betawi di Sidang T...   \n",
       "1      Amnesty International Beberkan 6 Indikator Kri...   \n",
       "2      Jelang Long Weekend, Stasiun Kereta Cepat Hali...   \n",
       "3      KPU Tegaskan Pemilih Tak Terdaftar di DPT Bisa...   \n",
       "4      Kemenag Luncurkan Gerakan Senam Haji Jaga Keta...   \n",
       "...                                                  ...   \n",
       "35864  Kapolri Tegaskan Contraflow di Tol Tetap Dibut...   \n",
       "35865  Temuan Cairan Misterius di Rumah Eks Bupati Je...   \n",
       "35866  Danjen Kopassus Bukber dengan Para Mantan Danj...   \n",
       "35867  Pertemuan Jokowi dan Paus Fransiskus Akan Baha...   \n",
       "35868  Kabar Golkar Sepekan: Dedi Mulyadi Didukung un...   \n",
       "\n",
       "                              Waktu  \\\n",
       "0                        16/08/2024   \n",
       "1                         7/18/2024   \n",
       "2      Rabu, 08 Mei  2024 19:18 WIB   \n",
       "3                        13/02/2024   \n",
       "4                         4/29/2024   \n",
       "...                             ...   \n",
       "35864  Senin, 08 Apr 2024 20:03 WIB   \n",
       "35865  Sabtu, 10 Agu 2024 16:16 WIB   \n",
       "35866  Jumat, 05 Apr 2024 20:53 WIB   \n",
       "35867                      3/9/2024   \n",
       "35868                      8/4/2024   \n",
       "\n",
       "                                                    Link  \\\n",
       "0      https://nasional.kompas.com/read/2024/08/16/11...   \n",
       "1      https://nasional.tempo.co/read/1893144/amnesty...   \n",
       "2      https://news.detik.com/berita/d-7331666/jelang...   \n",
       "3      https://nasional.kompas.com/read/2024/02/13/21...   \n",
       "4      https://nasional.tempo.co/read/1861810/kemenag...   \n",
       "...                                                  ...   \n",
       "35864  https://news.detik.com/berita/d-7285216/kapolr...   \n",
       "35865  https://news.detik.com/berita/d-7483244/temuan...   \n",
       "35866  https://news.detik.com/berita/d-7281174/danjen...   \n",
       "35867  https://nasional.kompas.com/read/2024/09/03/14...   \n",
       "35868  https://nasional.tempo.co/read/1899592/kabar-g...   \n",
       "\n",
       "                                                 Content  source  \n",
       "0       JAKARTA, KOMPAS.com - Presiden Joko Widodo me...  kompas  \n",
       "1      TEMPO.CO, Jakarta - Amnesty International Indo...   tempo  \n",
       "2      Stasiun kereta cepat Whoosh di Halim, Jakarta ...   detik  \n",
       "3       JAKARTA, KOMPAS.com - Komisi Pemilihan Umum (...  kompas  \n",
       "4      TEMPO.CO, Jakarta - Kementerian Agama atau Kem...   tempo  \n",
       "...                                                  ...     ...  \n",
       "35864  Kapolri Jenderal Listyo Sigit Prabowo menegask...   detik  \n",
       "35865  Polisi melakukan olah tempat kejadian perkara ...   detik  \n",
       "35866  Danjen Kopassus Mayjen TNI Djon Afriandi mengg...   detik  \n",
       "35867   TANGERANG, KOMPAS.com - Menteri Agama Yaqut C...  kompas  \n",
       "35868  TEMPO.CO, Jakarta - Golkar makin disoroti kepu...   tempo  \n",
       "\n",
       "[35869 rows x 5 columns]"
      ]
     },
     "execution_count": 5,
     "metadata": {},
     "output_type": "execute_result"
    }
   ],
   "source": [
    "df = pd.read_csv(r'D:\\SKRIPSI\\skripsi_2025\\dataset berita terkini 3\\politik_merge_compressed.csv.gz', compression='gzip')\n",
    "df"
   ]
  },
  {
   "cell_type": "code",
   "execution_count": 6,
   "metadata": {},
   "outputs": [],
   "source": [
    "df = df[['Content', 'Judul']]"
   ]
  },
  {
   "cell_type": "code",
   "execution_count": 10,
   "metadata": {},
   "outputs": [
    {
     "name": "stdout",
     "output_type": "stream",
     "text": [
      "Dataset memiliki 35566 baris\n"
     ]
    }
   ],
   "source": [
    "df = df.drop_duplicates(subset=['Content'])\n",
    "df = df.dropna(subset=['Content', 'Judul'])\n",
    "print(f\"Dataset memiliki {len(df)} baris\")"
   ]
  },
  {
   "cell_type": "code",
   "execution_count": 11,
   "metadata": {},
   "outputs": [
    {
     "name": "stdout",
     "output_type": "stream",
     "text": [
      "Sample berhasil diambil dengan 1000 baris\n"
     ]
    }
   ],
   "source": [
    "sample_df = df.sample(n=1000, random_state=42)\n",
    "print(f\"Sample berhasil diambil dengan {len(sample_df)} baris\")"
   ]
  },
  {
   "cell_type": "markdown",
   "metadata": {},
   "source": [
    "PREPROCESSING DATA"
   ]
  },
  {
   "cell_type": "code",
   "execution_count": 14,
   "metadata": {},
   "outputs": [],
   "source": [
    "#Cleaning Data\n",
    "\n",
    "def clean_berita(text):\n",
    "    # Penanganan nilai null\n",
    "    if not isinstance(text, str):\n",
    "        text = str(text)\n",
    "\n",
    "    text = text.replace('â€œ', '').replace('â€', '')\n",
    "    text = re.sub(r'^[A-Z]+, [A-Za-z0-9\\.]+(\\.com)? - ', '', text)\n",
    "    text = re.sub(r'@[A-Za-z0-9_]+', '', text)\n",
    "    text = re.sub(r'#\\w+', '', text)\n",
    "    text = re.sub(r'RT[\\s]+', '', text)\n",
    "    text = re.sub(r'https?://\\S+', '', text)\n",
    "    text = re.sub(r'[^A-Za-z0-9.,;:!?\\'\" ]', ' ', text)\n",
    "\n",
    "    # Normalisasi whitespace\n",
    "    text = re.sub(r'\\s+', ' ', text).strip()\n",
    "\n",
    "    return text"
   ]
  },
  {
   "cell_type": "code",
   "execution_count": 15,
   "metadata": {},
   "outputs": [],
   "source": [
    "# Normalisasi\n",
    "#Normalisasi\n",
    "norm_berita = {\n",
    "    # Singkatan media dan lokasi\n",
    "    \" kompas.com \": \" \",\n",
    "    \" tempo.co \": \" \",\n",
    "    \" detikcom \": \" \",\n",
    "\n",
    "    # Singkatan waktu dan ukuran\n",
    "    \" wib \": \" waktu indonesia barat \",\n",
    "    \" km \": \" kilometer \",\n",
    "    \" m \": \" meter \",\n",
    "\n",
    "    # Singkatan jabatan dan institusi\n",
    "    \" presiden \": \" presiden \",\n",
    "    \" ri \": \" republik indonesia \",\n",
    "    \" dpr \": \" dewan perwakilan rakyat \",\n",
    "    \" dpd \": \" dewan perwakilan daerah \",\n",
    "    \" mpr \": \" majelis permusyawaratan rakyat \",\n",
    "    \" pemilu \": \" pemilihan umum \",\n",
    "    \" kpu \": \" komisi pemilihan umum \",\n",
    "    \" ksp \": \" kantor staf presidenan \",\n",
    "    \" ikn \": \" ibu kota nusantara \",\n",
    "    \" tni \": \" tentara nasional indonesia \",\n",
    "    \" polri \": \" kepolisian republik indonesia \",\n",
    "    \" kpk \": \" komisi pemberantasan korupsi \",\n",
    "    \" pdip \": \" partai demokrasi indonesia perjuangan \",\n",
    "    \" lsi \": \" lembaga survei indonesia \",\n",
    "    \" jppr \": \" jaringan pendidikan pemilih untuk rakyat \",\n",
    "    \" uu \": \" undang-undang \",\n",
    "    \" ruu \": \" rancangan undang-undang \",\n",
    "    \" ham \": \" hak asasi manusia \",\n",
    "    \" ite \": \" informasi dan transaksi elektronik \",\n",
    "\n",
    "    # Nama-nama yang sering muncul\n",
    "    \" jokowi \": \" joko widodo \",\n",
    "    \" puan maharani \": \" puan maharani \",\n",
    "    \" megawati soekarnoputri \": \" megawati soekarnoputri \",\n",
    "    \" prabowo \": \" prabowo \",\n",
    "\n",
    "    # Singkatan umum dalam berita\n",
    "    \" yg \": \" yang \",\n",
    "    \" dg \": \" dengan \",\n",
    "    \" dlm \": \" dalam \",\n",
    "    \" tsb \": \" tersebut \",\n",
    "    \" tgl \": \" tanggal \",\n",
    "    \" jk \": \" jika \",\n",
    "    \" pd \": \" pada \",\n",
    "    \" dr \": \" dari \",\n",
    "    \" utk \": \" untuk \",\n",
    "    \" spy \": \" supaya \",\n",
    "    \" thn \": \" tahun \",\n",
    "    \" sbb \": \" sebagai berikut \",\n",
    "    \" jt \": \" juta \",\n",
    "    \" tdk \": \" tidak \",\n",
    "    \" sdh \": \" sudah \",\n",
    "    \" blm \": \" belum \",\n",
    "    \" hrs \": \" harus \",\n",
    "    \" jl \": \" jalan \",\n",
    "    \" no \": \" nomor \",\n",
    "    \" bpk \": \" bapak \",\n",
    "    \" sdr \": \" saudara \",\n",
    "\n",
    "    # Kata serapan yang sering salah tulis dan simbol\n",
    "    \" tehnologi \": \" teknologi \",\n",
    "    \" aktifitas \": \" aktivitas \",\n",
    "    \" sistim \": \" sistem \",\n",
    "    \" intruksi \": \" instruksi \",\n",
    "    \" trima \": \" terima \",\n",
    "    \" whoosh \": \" whoosh \",\n",
    "    \" -Â \": \" - \",\n",
    "    \" Â \": \" \",\n",
    "\n",
    "    # Kata-kata informal\n",
    "    \" gak \": \" tidak \",\n",
    "    \" nggak \": \" tidak \",\n",
    "    \" enggak \": \" tidak \",\n",
    "    \" udah \": \" sudah \",\n",
    "    \" aja \": \" saja \",\n",
    "    \" doang \": \" saja \",\n",
    "    \" gede \": \" besar \",\n",
    "    \" banget \": \" sangat \",\n",
    "}\n",
    "\n",
    "def normalisasi_berita(text):\n",
    "    # Memastikan input adalah string\n",
    "    if not isinstance(text, str):\n",
    "        text = str(text)\n",
    "\n",
    "    # Tambahkan spasi di awal dan akhir untuk memudahkan penggantian\n",
    "    text = \" \" + text + \" \"\n",
    "\n",
    "    # Lakukan penggantian berdasarkan kamus normalisasi\n",
    "    for key, value in norm_berita.items():\n",
    "        text = text.replace(key, value)\n",
    "\n",
    "    # Hapus spasi berlebih dan kembalikan\n",
    "    return re.sub(r'\\s+', ' ', text).strip()"
   ]
  },
  {
   "cell_type": "code",
   "execution_count": 16,
   "metadata": {},
   "outputs": [],
   "source": [
    "# Case Folding\n",
    "def case_folding_berita(text):\n",
    "    if not isinstance(text, str):\n",
    "        text = str(text)\n",
    "    return text.lower()"
   ]
  },
  {
   "cell_type": "code",
   "execution_count": 17,
   "metadata": {},
   "outputs": [],
   "source": [
    "# Tokenizing\n",
    "def tokenizing(text):\n",
    "    return word_tokenize(text)"
   ]
  },
  {
   "cell_type": "code",
   "execution_count": 21,
   "metadata": {},
   "outputs": [],
   "source": [
    "factory = StemmerFactory()\n",
    "stemmer = factory.create_stemmer()\n",
    "\n",
    "# Stopwords gabungan dari NLTK dan kustom\n",
    "stop_words = set(stopwords.words('indonesian'))\n",
    "custom_stopwords = {\n",
    "    'ya', 'nya', 'juga', 'ini', 'itu', 'dan', 'di', 'ke', 'dengan',\n",
    "    'untuk', 'pada', 'ada', 'yang', 'dari', 'oleh', 'tersebut',\n",
    "    'bisa', 'dapat', 'seperti', 'karena', 'saat'\n",
    "}\n",
    "stop_words.update(custom_stopwords)"
   ]
  },
  {
   "cell_type": "code",
   "execution_count": 22,
   "metadata": {},
   "outputs": [],
   "source": [
    "def process_all_steps(text):\n",
    "    # Penanganan null\n",
    "    if not isinstance(text, str):\n",
    "        text = str(text)\n",
    "        \n",
    "    # Cleaning\n",
    "    text = clean_berita(text)\n",
    "    \n",
    "    # Normalisasi\n",
    "    text = normalisasi_berita(text)\n",
    "    \n",
    "    # Case folding\n",
    "    text = case_folding_berita(text)\n",
    "    \n",
    "    # Tokenizing\n",
    "    tokens = word_tokenize(text)\n",
    "    \n",
    "    # Filtering stopwords\n",
    "    filtered_tokens = [word for word in tokens if word not in stop_words]\n",
    "    \n",
    "    # Stemming\n",
    "    stemmed_tokens = [stemmer.stem(word) for word in filtered_tokens]\n",
    "    \n",
    "    # Join kembali menjadi teks\n",
    "    return ' '.join(stemmed_tokens)"
   ]
  },
  {
   "cell_type": "code",
   "execution_count": 23,
   "metadata": {},
   "outputs": [
    {
     "name": "stdout",
     "output_type": "stream",
     "text": [
      "\n",
      "Memproses kolom Content...\n"
     ]
    },
    {
     "data": {
      "application/vnd.jupyter.widget-view+json": {
       "model_id": "07912d572eac4e2d9a6e54b39665d855",
       "version_major": 2,
       "version_minor": 0
      },
      "text/plain": [
       "Processing Content:   0%|          | 0/1000 [00:00<?, ?it/s]"
      ]
     },
     "metadata": {},
     "output_type": "display_data"
    },
    {
     "name": "stdout",
     "output_type": "stream",
     "text": [
      "\n",
      "Memproses kolom Judul...\n"
     ]
    },
    {
     "data": {
      "application/vnd.jupyter.widget-view+json": {
       "model_id": "e22712a863e445c385e113d8497d54ca",
       "version_major": 2,
       "version_minor": 0
      },
      "text/plain": [
       "Processing Judul:   0%|          | 0/1000 [00:00<?, ?it/s]"
      ]
     },
     "metadata": {},
     "output_type": "display_data"
    }
   ],
   "source": [
    "print(\"\\nMemproses kolom Content...\")\n",
    "tqdm.pandas(desc=\"Processing Content\")\n",
    "sample_df['processed_content'] = sample_df['Content'].progress_apply(process_all_steps)\n",
    "\n",
    "print(\"\\nMemproses kolom Judul...\")\n",
    "tqdm.pandas(desc=\"Processing Judul\")\n",
    "sample_df['processed_judul'] = sample_df['Judul'].progress_apply(process_all_steps)"
   ]
  },
  {
   "cell_type": "code",
   "execution_count": 24,
   "metadata": {},
   "outputs": [
    {
     "name": "stdout",
     "output_type": "stream",
     "text": [
      "\n",
      "Proses selesai! Hasil disimpan ke processed_sample_1000.csv\n"
     ]
    }
   ],
   "source": [
    "output_file = 'processed_sample_1000.csv'\n",
    "sample_df.to_csv(output_file, index=False)\n",
    "print(f\"\\nProses selesai! Hasil disimpan ke {output_file}\")"
   ]
  },
  {
   "cell_type": "code",
   "execution_count": 29,
   "metadata": {},
   "outputs": [
    {
     "data": {
      "text/html": [
       "<div>\n",
       "<style scoped>\n",
       "    .dataframe tbody tr th:only-of-type {\n",
       "        vertical-align: middle;\n",
       "    }\n",
       "\n",
       "    .dataframe tbody tr th {\n",
       "        vertical-align: top;\n",
       "    }\n",
       "\n",
       "    .dataframe thead th {\n",
       "        text-align: right;\n",
       "    }\n",
       "</style>\n",
       "<table border=\"1\" class=\"dataframe\">\n",
       "  <thead>\n",
       "    <tr style=\"text-align: right;\">\n",
       "      <th></th>\n",
       "      <th>Content</th>\n",
       "      <th>processed_content</th>\n",
       "      <th>Judul</th>\n",
       "      <th>processed_judul</th>\n",
       "    </tr>\n",
       "  </thead>\n",
       "  <tbody>\n",
       "    <tr>\n",
       "      <th>11082</th>\n",
       "      <td>TEMPO.CO, Jakarta - Sejak 26 tahun yang lalu, ...</td>\n",
       "      <td>tempo co  jakarta 26  mei kenang lahir reforma...</td>\n",
       "      <td>Bara Reformasi Terus Dihidupkan: Aksi Kamisan ...</td>\n",
       "      <td>bara reformasi hidup  aksi kamis adil korban culi</td>\n",
       "    </tr>\n",
       "    <tr>\n",
       "      <th>21104</th>\n",
       "      <td>TEMPO.CO, Jakarta - Menteri Koordinator Pereko...</td>\n",
       "      <td>tempo co  jakarta menteri koordinator ekonomi ...</td>\n",
       "      <td>Airlangga soal Ratas Prabowo dengan Jokowi: Ba...</td>\n",
       "      <td>airlangga ratas prabowo jokowi  bahas perintah</td>\n",
       "    </tr>\n",
       "    <tr>\n",
       "      <th>32932</th>\n",
       "      <td>TEMPO.CO, Yogyakarta - Capres nomor urut 03 Ga...</td>\n",
       "      <td>tempo co  yogyakarta capres nomor urut 03 ganj...</td>\n",
       "      <td>Prabowo-Gibran Gencar Gerak di Jateng, Ganjar ...</td>\n",
       "      <td>prabowo gibran gencar gerak jateng  ganjar kan...</td>\n",
       "    </tr>\n",
       "    <tr>\n",
       "      <th>21779</th>\n",
       "      <td>KOMPAS.com – Partai Keadilan Sejahtera (PKS) ...</td>\n",
       "      <td>kompas com partai adil sejahtera pks buka opsi...</td>\n",
       "      <td>Soal Sinyal PKS Tinggalkan Anies dan Gabung KI...</td>\n",
       "      <td>sinyal pks tinggal anies gabung kim plus  zulh...</td>\n",
       "    </tr>\n",
       "    <tr>\n",
       "      <th>32515</th>\n",
       "      <td>Dalam sejarahnya selama menjadi Inspektur Upac...</td>\n",
       "      <td>sejarah inspektur upacara hut merdeka ri  pres...</td>\n",
       "      <td>Daftar Baju Adat yang Pernah Dipakai Jokowi sa...</td>\n",
       "      <td>daftar baju adat pakai jokowi upacara 17 agustus</td>\n",
       "    </tr>\n",
       "  </tbody>\n",
       "</table>\n",
       "</div>"
      ],
      "text/plain": [
       "                                                 Content  \\\n",
       "11082  TEMPO.CO, Jakarta - Sejak 26 tahun yang lalu, ...   \n",
       "21104  TEMPO.CO, Jakarta - Menteri Koordinator Pereko...   \n",
       "32932  TEMPO.CO, Yogyakarta - Capres nomor urut 03 Ga...   \n",
       "21779   KOMPAS.com – Partai Keadilan Sejahtera (PKS) ...   \n",
       "32515  Dalam sejarahnya selama menjadi Inspektur Upac...   \n",
       "\n",
       "                                       processed_content  \\\n",
       "11082  tempo co  jakarta 26  mei kenang lahir reforma...   \n",
       "21104  tempo co  jakarta menteri koordinator ekonomi ...   \n",
       "32932  tempo co  yogyakarta capres nomor urut 03 ganj...   \n",
       "21779  kompas com partai adil sejahtera pks buka opsi...   \n",
       "32515  sejarah inspektur upacara hut merdeka ri  pres...   \n",
       "\n",
       "                                                   Judul  \\\n",
       "11082  Bara Reformasi Terus Dihidupkan: Aksi Kamisan ...   \n",
       "21104  Airlangga soal Ratas Prabowo dengan Jokowi: Ba...   \n",
       "32932  Prabowo-Gibran Gencar Gerak di Jateng, Ganjar ...   \n",
       "21779  Soal Sinyal PKS Tinggalkan Anies dan Gabung KI...   \n",
       "32515  Daftar Baju Adat yang Pernah Dipakai Jokowi sa...   \n",
       "\n",
       "                                         processed_judul  \n",
       "11082  bara reformasi hidup  aksi kamis adil korban culi  \n",
       "21104     airlangga ratas prabowo jokowi  bahas perintah  \n",
       "32932  prabowo gibran gencar gerak jateng  ganjar kan...  \n",
       "21779  sinyal pks tinggal anies gabung kim plus  zulh...  \n",
       "32515   daftar baju adat pakai jokowi upacara 17 agustus  "
      ]
     },
     "metadata": {},
     "output_type": "display_data"
    }
   ],
   "source": [
    "from IPython.display import display\n",
    "display(sample_df[['Content', 'processed_content', 'Judul', 'processed_judul']].head())"
   ]
  },
  {
   "cell_type": "markdown",
   "metadata": {},
   "source": [
    "LABELING"
   ]
  },
  {
   "cell_type": "code",
   "execution_count": 11,
   "metadata": {},
   "outputs": [],
   "source": [
    "def label_sentimen_ekonomi(processed_text):\n",
    "    # Definisikan kategori sentimen untuk konteks ekonomi/nilai tukar\n",
    "    sentiment_categories = {\n",
    "        'penguatan_rupiah': [\n",
    "            'menguat', 'naik', 'apresiasi', 'positif', 'surplus', 'berkembang',\n",
    "            'tumbuh', 'stabil', 'kokoh', 'fundamental', 'kepercayaan', 'investasi'\n",
    "        ],\n",
    "        'pelemahan_rupiah': [\n",
    "            'melemah', 'turun', 'depresiasi', 'negatif', 'defisit', 'penurunan', \n",
    "            'krisis', 'resesi', 'inflasi', 'tekanan', 'ketidakpastian', 'volatil'\n",
    "        ],\n",
    "        # Faktor-faktor ekonomi dari proposal\n",
    "        'faktor_penguatan': [\n",
    "            'ekspor', 'cadangan', 'devisa', 'investasi', 'pertumbuhan', 'ekonomi',\n",
    "            'kebijakan', 'moneter', 'stabilitas', 'politik', 'kepercayaan', 'investor'\n",
    "        ],\n",
    "        'faktor_pelemahan': [\n",
    "            'inflasi', 'impor', 'utang', 'defisit', 'anggaran', 'ketidakpastian',\n",
    "            'politik', 'global', 'minyak', 'krisis', 'konflik', 'perang'\n",
    "        ]\n",
    "    }\n",
    "    \n",
    "    # Pisahkan kata-kata teks\n",
    "    words = processed_text.split()\n",
    "    \n",
    "    # Hitung skor untuk setiap kategori\n",
    "    scores = {category: 0 for category in sentiment_categories}\n",
    "    \n",
    "    for word in words:\n",
    "        for category, category_words in sentiment_categories.items():\n",
    "            if word in category_words:\n",
    "                scores[category] += 1\n",
    "    \n",
    "    # Tentukan sentimen berdasarkan skor kategori\n",
    "    penguatan_score = scores['penguatan_rupiah'] + scores['faktor_penguatan']\n",
    "    pelemahan_score = scores['pelemahan_rupiah'] + scores['faktor_pelemahan']\n",
    "    \n",
    "    # Klasifikasi biner (hanya positif atau negatif)\n",
    "    if penguatan_score >= pelemahan_score:\n",
    "        return 'positif'  # Berita berpotensi memperkuat rupiah\n",
    "    else:\n",
    "        return 'negatif'  # Berita berpotensi melemahkan rupiah"
   ]
  },
  {
   "cell_type": "code",
   "execution_count": 12,
   "metadata": {},
   "outputs": [],
   "source": [
    "def label_sentimen_lexicon(processed_text):\n",
    "    # Definisikan kamus kata positif dan negatif\n",
    "    positive_words = [\n",
    "        'tumbuh', 'naik', 'positif', 'apresiasi', 'kuat', 'untung', 'stabil',\n",
    "        'baik', 'optimis', 'tingkat', 'sukses', 'unggul', 'dorong', 'dukung',\n",
    "        'laju', 'surplus', 'kokoh', 'angkat', 'dongkrak', 'pemulih', 'tekan',\n",
    "        'perkuat', 'rekor', 'prestasi', 'potensial', 'prospek', 'efisien'\n",
    "    ]\n",
    "    \n",
    "    negative_words = [\n",
    "        'turun', 'lemah', 'negatif', 'rugi', 'krisis', 'defisit', 'buruk',\n",
    "        'tekanan', 'resesi', 'inflasi', 'rendah', 'lambat', 'kendala', 'akibat',\n",
    "        'masalah', 'sulit', 'khawatir', 'menurun', 'jatuh', 'tekor', 'tertekan',\n",
    "        'beban', 'tergerus', 'risiko', 'ancam', 'hambat', 'kesulitan', 'terhambat'\n",
    "    ]\n",
    "    \n",
    "    # Hitung jumlah kata positif dan negatif dalam teks\n",
    "    words = processed_text.split()\n",
    "    \n",
    "    positive_count = sum(1 for word in words if word in positive_words)\n",
    "    negative_count = sum(1 for word in words if word in negative_words)\n",
    "    \n",
    "    # Klasifikasi biner (hanya positif atau negatif)\n",
    "    if positive_count >= negative_count:\n",
    "        return 'positif'\n",
    "    else:\n",
    "        return 'negatif'"
   ]
  },
  {
   "cell_type": "code",
   "execution_count": 13,
   "metadata": {},
   "outputs": [],
   "source": [
    "def combine_methods_binary(sample_df):\n",
    "    # Terapkan kedua metode pelabelan pada konten berita\n",
    "    sample_df['label_lexicon'] = sample_df['processed_content'].apply(label_sentimen_lexicon)\n",
    "    sample_df['label_ekonomi'] = sample_df['processed_content'].apply(label_sentimen_ekonomi)\n",
    "    \n",
    "    # Gabungkan hasil dengan voting sederhana\n",
    "    def vote_labels(row):\n",
    "        labels = [row['label_lexicon'], row['label_ekonomi']]\n",
    "        \n",
    "        if labels.count('positif') > labels.count('negatif'):\n",
    "            return 'positif'\n",
    "        elif labels.count('negatif') > labels.count('positif'):\n",
    "            return 'negatif'\n",
    "        else:\n",
    "            # Jika terjadi keseimbangan, berikan prioritas pada metode ekonomi\n",
    "            # karena lebih sesuai dengan konteks penelitian Anda\n",
    "            return row['label_ekonomi']\n",
    "    \n",
    "    sample_df['final_label'] = sample_df.apply(vote_labels, axis=1)\n",
    "    return sample_df"
   ]
  },
  {
   "cell_type": "code",
   "execution_count": 14,
   "metadata": {},
   "outputs": [
    {
     "name": "stdout",
     "output_type": "stream",
     "text": [
      "Distribusi label sentimen:\n",
      "positif    859\n",
      "negatif    141\n",
      "Name: final_label, dtype: int64\n"
     ]
    }
   ],
   "source": [
    "sample_df = pd.read_csv('processed_sample_1000.csv')\n",
    "labeled_df = combine_methods_binary(sample_df)\n",
    "print(\"Distribusi label sentimen:\")\n",
    "print(labeled_df['final_label'].value_counts())\n",
    "labeled_df.to_csv('labeled_dataset.csv', index=False)"
   ]
  },
  {
   "cell_type": "code",
   "execution_count": null,
   "metadata": {},
   "outputs": [],
   "source": []
  }
 ],
 "metadata": {
  "kernelspec": {
   "display_name": "base",
   "language": "python",
   "name": "python3"
  },
  "language_info": {
   "codemirror_mode": {
    "name": "ipython",
    "version": 3
   },
   "file_extension": ".py",
   "mimetype": "text/x-python",
   "name": "python",
   "nbconvert_exporter": "python",
   "pygments_lexer": "ipython3",
   "version": "3.8.8"
  }
 },
 "nbformat": 4,
 "nbformat_minor": 2
}
